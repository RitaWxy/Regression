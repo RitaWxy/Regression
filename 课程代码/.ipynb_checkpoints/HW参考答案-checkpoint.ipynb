{
 "cells": [
  {
   "cell_type": "code",
   "execution_count": 22,
   "metadata": {
    "pycharm": {
     "name": "#%%\n"
    }
   },
   "outputs": [],
   "source": [
    "import pandas as pd\n",
    "from sklearn.model_selection import train_test_split\n",
    "from sklearn.preprocessing import StandardScaler\n",
    "from sklearn.linear_model import LogisticRegression \n",
    "from sklearn.metrics import classification_report\n",
    "import matplotlib.pyplot as plt\n",
    "import seaborn as sns"
   ]
  },
  {
   "cell_type": "code",
   "execution_count": 23,
   "metadata": {
    "pycharm": {
     "name": "#%%\n"
    }
   },
   "outputs": [],
   "source": [
    "dataPath = './heart.csv'\n",
    "data = pd.read_csv(dataPath)"
   ]
  },
  {
   "cell_type": "code",
   "execution_count": 24,
   "metadata": {
    "pycharm": {
     "name": "#%%\n"
    }
   },
   "outputs": [
    {
     "data": {
      "text/html": [
       "<div>\n",
       "<style scoped>\n",
       "    .dataframe tbody tr th:only-of-type {\n",
       "        vertical-align: middle;\n",
       "    }\n",
       "\n",
       "    .dataframe tbody tr th {\n",
       "        vertical-align: top;\n",
       "    }\n",
       "\n",
       "    .dataframe thead th {\n",
       "        text-align: right;\n",
       "    }\n",
       "</style>\n",
       "<table border=\"1\" class=\"dataframe\">\n",
       "  <thead>\n",
       "    <tr style=\"text-align: right;\">\n",
       "      <th></th>\n",
       "      <th>age</th>\n",
       "      <th>sex</th>\n",
       "      <th>cp</th>\n",
       "      <th>trestbps</th>\n",
       "      <th>chol</th>\n",
       "      <th>fbs</th>\n",
       "      <th>restecg</th>\n",
       "      <th>thalach</th>\n",
       "      <th>exang</th>\n",
       "      <th>oldpeak</th>\n",
       "      <th>slope</th>\n",
       "      <th>ca</th>\n",
       "      <th>thal</th>\n",
       "      <th>target</th>\n",
       "    </tr>\n",
       "  </thead>\n",
       "  <tbody>\n",
       "    <tr>\n",
       "      <th>0</th>\n",
       "      <td>63</td>\n",
       "      <td>1</td>\n",
       "      <td>3</td>\n",
       "      <td>145</td>\n",
       "      <td>233</td>\n",
       "      <td>1</td>\n",
       "      <td>0</td>\n",
       "      <td>150</td>\n",
       "      <td>0</td>\n",
       "      <td>2.3</td>\n",
       "      <td>0</td>\n",
       "      <td>0</td>\n",
       "      <td>1</td>\n",
       "      <td>1</td>\n",
       "    </tr>\n",
       "    <tr>\n",
       "      <th>1</th>\n",
       "      <td>37</td>\n",
       "      <td>1</td>\n",
       "      <td>2</td>\n",
       "      <td>130</td>\n",
       "      <td>250</td>\n",
       "      <td>0</td>\n",
       "      <td>1</td>\n",
       "      <td>187</td>\n",
       "      <td>0</td>\n",
       "      <td>3.5</td>\n",
       "      <td>0</td>\n",
       "      <td>0</td>\n",
       "      <td>2</td>\n",
       "      <td>1</td>\n",
       "    </tr>\n",
       "    <tr>\n",
       "      <th>2</th>\n",
       "      <td>41</td>\n",
       "      <td>0</td>\n",
       "      <td>1</td>\n",
       "      <td>130</td>\n",
       "      <td>204</td>\n",
       "      <td>0</td>\n",
       "      <td>0</td>\n",
       "      <td>172</td>\n",
       "      <td>0</td>\n",
       "      <td>1.4</td>\n",
       "      <td>2</td>\n",
       "      <td>0</td>\n",
       "      <td>2</td>\n",
       "      <td>1</td>\n",
       "    </tr>\n",
       "    <tr>\n",
       "      <th>3</th>\n",
       "      <td>56</td>\n",
       "      <td>1</td>\n",
       "      <td>1</td>\n",
       "      <td>120</td>\n",
       "      <td>236</td>\n",
       "      <td>0</td>\n",
       "      <td>1</td>\n",
       "      <td>178</td>\n",
       "      <td>0</td>\n",
       "      <td>0.8</td>\n",
       "      <td>2</td>\n",
       "      <td>0</td>\n",
       "      <td>2</td>\n",
       "      <td>1</td>\n",
       "    </tr>\n",
       "    <tr>\n",
       "      <th>4</th>\n",
       "      <td>57</td>\n",
       "      <td>0</td>\n",
       "      <td>0</td>\n",
       "      <td>120</td>\n",
       "      <td>354</td>\n",
       "      <td>0</td>\n",
       "      <td>1</td>\n",
       "      <td>163</td>\n",
       "      <td>1</td>\n",
       "      <td>0.6</td>\n",
       "      <td>2</td>\n",
       "      <td>0</td>\n",
       "      <td>2</td>\n",
       "      <td>1</td>\n",
       "    </tr>\n",
       "  </tbody>\n",
       "</table>\n",
       "</div>"
      ],
      "text/plain": [
       "   age  sex  cp  trestbps  chol  fbs  restecg  thalach  exang  oldpeak  slope  \\\n",
       "0   63    1   3       145   233    1        0      150      0      2.3      0   \n",
       "1   37    1   2       130   250    0        1      187      0      3.5      0   \n",
       "2   41    0   1       130   204    0        0      172      0      1.4      2   \n",
       "3   56    1   1       120   236    0        1      178      0      0.8      2   \n",
       "4   57    0   0       120   354    0        1      163      1      0.6      2   \n",
       "\n",
       "   ca  thal  target  \n",
       "0   0     1       1  \n",
       "1   0     2       1  \n",
       "2   0     2       1  \n",
       "3   0     2       1  \n",
       "4   0     2       1  "
      ]
     },
     "execution_count": 24,
     "metadata": {},
     "output_type": "execute_result"
    }
   ],
   "source": [
    "data.head()"
   ]
  },
  {
   "cell_type": "code",
   "execution_count": 25,
   "metadata": {
    "pycharm": {
     "name": "#%%\n"
    },
    "scrolled": true
   },
   "outputs": [
    {
     "name": "stdout",
     "output_type": "stream",
     "text": [
      "<class 'pandas.core.frame.DataFrame'>\n",
      "RangeIndex: 303 entries, 0 to 302\n",
      "Data columns (total 14 columns):\n",
      " #   Column    Non-Null Count  Dtype  \n",
      "---  ------    --------------  -----  \n",
      " 0   age       303 non-null    int64  \n",
      " 1   sex       303 non-null    int64  \n",
      " 2   cp        303 non-null    int64  \n",
      " 3   trestbps  303 non-null    int64  \n",
      " 4   chol      303 non-null    int64  \n",
      " 5   fbs       303 non-null    int64  \n",
      " 6   restecg   303 non-null    int64  \n",
      " 7   thalach   303 non-null    int64  \n",
      " 8   exang     303 non-null    int64  \n",
      " 9   oldpeak   303 non-null    float64\n",
      " 10  slope     303 non-null    int64  \n",
      " 11  ca        303 non-null    int64  \n",
      " 12  thal      303 non-null    int64  \n",
      " 13  target    303 non-null    int64  \n",
      "dtypes: float64(1), int64(13)\n",
      "memory usage: 33.3 KB\n"
     ]
    }
   ],
   "source": [
    "data.info()"
   ]
  },
  {
   "cell_type": "code",
   "execution_count": 27,
   "metadata": {
    "pycharm": {
     "name": "#%%\n"
    }
   },
   "outputs": [
    {
     "data": {
      "text/plain": [
       "([<matplotlib.patches.Wedge at 0x7fe5cdbff550>,\n",
       "  <matplotlib.patches.Wedge at 0x7fe5cdbffc50>],\n",
       " [Text(-0.1604426989002982, 1.1387528881937419, 'Sick'),\n",
       "  Text(0.16044280551803777, -1.1387528731720071, 'Not sick')],\n",
       " [Text(-0.07673346469144694, 0.5446209465274416, '54.5%'),\n",
       "  Text(0.0767335156825398, -0.5446209393431338, '45.5%')])"
      ]
     },
     "execution_count": 27,
     "metadata": {},
     "output_type": "execute_result"
    },
    {
     "data": {
      "image/png": "[encoded data removed]",
      "text/plain": [
       "<Figure size 720x432 with 1 Axes>"
      ]
     },
     "metadata": {},
     "output_type": "display_data"
    }
   ],
   "source": [
    "# 确诊为病患。\n",
    "pie, ax = plt.subplots(figsize=[10,6])\n",
    "plt.pie(x=data['target'].value_counts(), autopct=\"%.1f%%\", explode=[0.05]*2, labels=['Sick', 'Not sick'], pctdistance=0.5)"
   ]
  },
  {
   "cell_type": "code",
   "execution_count": 28,
   "metadata": {
    "pycharm": {
     "name": "#%%\n"
    }
   },
   "outputs": [
    {
     "data": {
      "image/png": "[encoded data removed]",
      "text/plain": [
       "<Figure size 1296x864 with 2 Axes>"
      ]
     },
     "metadata": {
      "needs_background": "light"
     },
     "output_type": "display_data"
    }
   ],
   "source": [
    "# 查看特征相关系数图\n",
    "fig = plt.figure(figsize=(18,12))\n",
    "ax = plt.subplot(1,1,1)\n",
    "sns.heatmap(data.corr(),ax= ax, cmap='coolwarm');"
   ]
  },
  {
   "cell_type": "code",
   "execution_count": 29,
   "metadata": {
    "pycharm": {
     "name": "#%%\n"
    }
   },
   "outputs": [
    {
     "data": {
      "text/html": [
       "<style  type=\"text/css\" >\n",
       "#T_595be4b4_8186_11eb_ab82_acde48001122row0_col0,#T_595be4b4_8186_11eb_ab82_acde48001122row1_col1,#T_595be4b4_8186_11eb_ab82_acde48001122row2_col2,#T_595be4b4_8186_11eb_ab82_acde48001122row3_col3,#T_595be4b4_8186_11eb_ab82_acde48001122row4_col4,#T_595be4b4_8186_11eb_ab82_acde48001122row5_col5,#T_595be4b4_8186_11eb_ab82_acde48001122row6_col6,#T_595be4b4_8186_11eb_ab82_acde48001122row7_col7,#T_595be4b4_8186_11eb_ab82_acde48001122row8_col8,#T_595be4b4_8186_11eb_ab82_acde48001122row9_col9,#T_595be4b4_8186_11eb_ab82_acde48001122row10_col10,#T_595be4b4_8186_11eb_ab82_acde48001122row11_col11,#T_595be4b4_8186_11eb_ab82_acde48001122row12_col12,#T_595be4b4_8186_11eb_ab82_acde48001122row13_col13{\n",
       "            background-color:  #b40426;\n",
       "            color:  #f1f1f1;\n",
       "        }#T_595be4b4_8186_11eb_ab82_acde48001122row0_col1{\n",
       "            background-color:  #6788ee;\n",
       "            color:  #000000;\n",
       "        }#T_595be4b4_8186_11eb_ab82_acde48001122row0_col2,#T_595be4b4_8186_11eb_ab82_acde48001122row4_col3,#T_595be4b4_8186_11eb_ab82_acde48001122row5_col12{\n",
       "            background-color:  #86a9fc;\n",
       "            color:  #000000;\n",
       "        }#T_595be4b4_8186_11eb_ab82_acde48001122row0_col3,#T_595be4b4_8186_11eb_ab82_acde48001122row5_col9,#T_595be4b4_8186_11eb_ab82_acde48001122row10_col2,#T_595be4b4_8186_11eb_ab82_acde48001122row11_col12{\n",
       "            background-color:  #b6cefa;\n",
       "            color:  #000000;\n",
       "        }#T_595be4b4_8186_11eb_ab82_acde48001122row0_col4{\n",
       "            background-color:  #adc9fd;\n",
       "            color:  #000000;\n",
       "        }#T_595be4b4_8186_11eb_ab82_acde48001122row0_col5{\n",
       "            background-color:  #779af7;\n",
       "            color:  #000000;\n",
       "        }#T_595be4b4_8186_11eb_ab82_acde48001122row0_col6,#T_595be4b4_8186_11eb_ab82_acde48001122row2_col8{\n",
       "            background-color:  #4358cb;\n",
       "            color:  #f1f1f1;\n",
       "        }#T_595be4b4_8186_11eb_ab82_acde48001122row0_col7,#T_595be4b4_8186_11eb_ab82_acde48001122row1_col4,#T_595be4b4_8186_11eb_ab82_acde48001122row4_col6,#T_595be4b4_8186_11eb_ab82_acde48001122row6_col5,#T_595be4b4_8186_11eb_ab82_acde48001122row7_col0,#T_595be4b4_8186_11eb_ab82_acde48001122row8_col2,#T_595be4b4_8186_11eb_ab82_acde48001122row8_col13,#T_595be4b4_8186_11eb_ab82_acde48001122row9_col10,#T_595be4b4_8186_11eb_ab82_acde48001122row10_col9,#T_595be4b4_8186_11eb_ab82_acde48001122row13_col1,#T_595be4b4_8186_11eb_ab82_acde48001122row13_col3,#T_595be4b4_8186_11eb_ab82_acde48001122row13_col8,#T_595be4b4_8186_11eb_ab82_acde48001122row13_col11,#T_595be4b4_8186_11eb_ab82_acde48001122row13_col12{\n",
       "            background-color:  #3b4cc0;\n",
       "            color:  #f1f1f1;\n",
       "        }#T_595be4b4_8186_11eb_ab82_acde48001122row0_col8,#T_595be4b4_8186_11eb_ab82_acde48001122row5_col0{\n",
       "            background-color:  #b7cff9;\n",
       "            color:  #000000;\n",
       "        }#T_595be4b4_8186_11eb_ab82_acde48001122row0_col9,#T_595be4b4_8186_11eb_ab82_acde48001122row2_col7,#T_595be4b4_8186_11eb_ab82_acde48001122row12_col9{\n",
       "            background-color:  #dcdddd;\n",
       "            color:  #000000;\n",
       "        }#T_595be4b4_8186_11eb_ab82_acde48001122row0_col10{\n",
       "            background-color:  #90b2fe;\n",
       "            color:  #000000;\n",
       "        }#T_595be4b4_8186_11eb_ab82_acde48001122row0_col11{\n",
       "            background-color:  #d7dce3;\n",
       "            color:  #000000;\n",
       "        }#T_595be4b4_8186_11eb_ab82_acde48001122row0_col12{\n",
       "            background-color:  #a1c0ff;\n",
       "            color:  #000000;\n",
       "        }#T_595be4b4_8186_11eb_ab82_acde48001122row0_col13,#T_595be4b4_8186_11eb_ab82_acde48001122row7_col9{\n",
       "            background-color:  #688aef;\n",
       "            color:  #000000;\n",
       "        }#T_595be4b4_8186_11eb_ab82_acde48001122row1_col0,#T_595be4b4_8186_11eb_ab82_acde48001122row10_col6{\n",
       "            background-color:  #80a3fa;\n",
       "            color:  #000000;\n",
       "        }#T_595be4b4_8186_11eb_ab82_acde48001122row1_col2,#T_595be4b4_8186_11eb_ab82_acde48001122row6_col12,#T_595be4b4_8186_11eb_ab82_acde48001122row12_col4{\n",
       "            background-color:  #8caffe;\n",
       "            color:  #000000;\n",
       "        }#T_595be4b4_8186_11eb_ab82_acde48001122row1_col3{\n",
       "            background-color:  #516ddb;\n",
       "            color:  #000000;\n",
       "        }#T_595be4b4_8186_11eb_ab82_acde48001122row1_col5,#T_595be4b4_8186_11eb_ab82_acde48001122row12_col6{\n",
       "            background-color:  #5f7fe8;\n",
       "            color:  #000000;\n",
       "        }#T_595be4b4_8186_11eb_ab82_acde48001122row1_col6,#T_595be4b4_8186_11eb_ab82_acde48001122row9_col6{\n",
       "            background-color:  #536edd;\n",
       "            color:  #000000;\n",
       "        }#T_595be4b4_8186_11eb_ab82_acde48001122row1_col7,#T_595be4b4_8186_11eb_ab82_acde48001122row3_col7,#T_595be4b4_8186_11eb_ab82_acde48001122row13_col6{\n",
       "            background-color:  #8db0fe;\n",
       "            color:  #000000;\n",
       "        }#T_595be4b4_8186_11eb_ab82_acde48001122row1_col8{\n",
       "            background-color:  #c1d4f4;\n",
       "            color:  #000000;\n",
       "        }#T_595be4b4_8186_11eb_ab82_acde48001122row1_col9{\n",
       "            background-color:  #c9d7f0;\n",
       "            color:  #000000;\n",
       "        }#T_595be4b4_8186_11eb_ab82_acde48001122row1_col10{\n",
       "            background-color:  #aec9fc;\n",
       "            color:  #000000;\n",
       "        }#T_595be4b4_8186_11eb_ab82_acde48001122row1_col11,#T_595be4b4_8186_11eb_ab82_acde48001122row4_col10,#T_595be4b4_8186_11eb_ab82_acde48001122row8_col11{\n",
       "            background-color:  #b5cdfa;\n",
       "            color:  #000000;\n",
       "        }#T_595be4b4_8186_11eb_ab82_acde48001122row1_col12,#T_595be4b4_8186_11eb_ab82_acde48001122row9_col12{\n",
       "            background-color:  #c4d5f3;\n",
       "            color:  #000000;\n",
       "        }#T_595be4b4_8186_11eb_ab82_acde48001122row1_col13{\n",
       "            background-color:  #5b7ae5;\n",
       "            color:  #000000;\n",
       "        }#T_595be4b4_8186_11eb_ab82_acde48001122row2_col0{\n",
       "            background-color:  #88abfd;\n",
       "            color:  #000000;\n",
       "        }#T_595be4b4_8186_11eb_ab82_acde48001122row2_col1,#T_595be4b4_8186_11eb_ab82_acde48001122row12_col3{\n",
       "            background-color:  #7597f6;\n",
       "            color:  #000000;\n",
       "        }#T_595be4b4_8186_11eb_ab82_acde48001122row2_col3,#T_595be4b4_8186_11eb_ab82_acde48001122row2_col6,#T_595be4b4_8186_11eb_ab82_acde48001122row7_col6{\n",
       "            background-color:  #7093f3;\n",
       "            color:  #000000;\n",
       "        }#T_595be4b4_8186_11eb_ab82_acde48001122row2_col4,#T_595be4b4_8186_11eb_ab82_acde48001122row8_col5{\n",
       "            background-color:  #5977e3;\n",
       "            color:  #000000;\n",
       "        }#T_595be4b4_8186_11eb_ab82_acde48001122row2_col5,#T_595be4b4_8186_11eb_ab82_acde48001122row10_col0,#T_595be4b4_8186_11eb_ab82_acde48001122row12_col2{\n",
       "            background-color:  #6f92f3;\n",
       "            color:  #000000;\n",
       "        }#T_595be4b4_8186_11eb_ab82_acde48001122row2_col9{\n",
       "            background-color:  #94b6ff;\n",
       "            color:  #000000;\n",
       "        }#T_595be4b4_8186_11eb_ab82_acde48001122row2_col10,#T_595be4b4_8186_11eb_ab82_acde48001122row9_col11{\n",
       "            background-color:  #cdd9ec;\n",
       "            color:  #000000;\n",
       "        }#T_595be4b4_8186_11eb_ab82_acde48001122row2_col11{\n",
       "            background-color:  #6a8bef;\n",
       "            color:  #000000;\n",
       "        }#T_595be4b4_8186_11eb_ab82_acde48001122row2_col12{\n",
       "            background-color:  #6485ec;\n",
       "            color:  #000000;\n",
       "        }#T_595be4b4_8186_11eb_ab82_acde48001122row2_col13{\n",
       "            background-color:  #f2c9b4;\n",
       "            color:  #000000;\n",
       "        }#T_595be4b4_8186_11eb_ab82_acde48001122row3_col0{\n",
       "            background-color:  #d9dce1;\n",
       "            color:  #000000;\n",
       "        }#T_595be4b4_8186_11eb_ab82_acde48001122row3_col1,#T_595be4b4_8186_11eb_ab82_acde48001122row6_col1,#T_595be4b4_8186_11eb_ab82_acde48001122row9_col2{\n",
       "            background-color:  #7295f4;\n",
       "            color:  #000000;\n",
       "        }#T_595be4b4_8186_11eb_ab82_acde48001122row3_col2,#T_595be4b4_8186_11eb_ab82_acde48001122row6_col7{\n",
       "            background-color:  #a5c3fe;\n",
       "            color:  #000000;\n",
       "        }#T_595be4b4_8186_11eb_ab82_acde48001122row3_col4{\n",
       "            background-color:  #93b5fe;\n",
       "            color:  #000000;\n",
       "        }#T_595be4b4_8186_11eb_ab82_acde48001122row3_col5{\n",
       "            background-color:  #89acfd;\n",
       "            color:  #000000;\n",
       "        }#T_595be4b4_8186_11eb_ab82_acde48001122row3_col6,#T_595be4b4_8186_11eb_ab82_acde48001122row11_col13{\n",
       "            background-color:  #445acc;\n",
       "            color:  #f1f1f1;\n",
       "        }#T_595be4b4_8186_11eb_ab82_acde48001122row3_col8,#T_595be4b4_8186_11eb_ab82_acde48001122row4_col8,#T_595be4b4_8186_11eb_ab82_acde48001122row5_col2{\n",
       "            background-color:  #afcafc;\n",
       "            color:  #000000;\n",
       "        }#T_595be4b4_8186_11eb_ab82_acde48001122row3_col9{\n",
       "            background-color:  #dadce0;\n",
       "            color:  #000000;\n",
       "        }#T_595be4b4_8186_11eb_ab82_acde48001122row3_col10{\n",
       "            background-color:  #9bbcff;\n",
       "            color:  #000000;\n",
       "        }#T_595be4b4_8186_11eb_ab82_acde48001122row3_col11,#T_595be4b4_8186_11eb_ab82_acde48001122row8_col0{\n",
       "            background-color:  #b1cbfc;\n",
       "            color:  #000000;\n",
       "        }#T_595be4b4_8186_11eb_ab82_acde48001122row3_col12{\n",
       "            background-color:  #9fbfff;\n",
       "            color:  #000000;\n",
       "        }#T_595be4b4_8186_11eb_ab82_acde48001122row3_col13,#T_595be4b4_8186_11eb_ab82_acde48001122row6_col0,#T_595be4b4_8186_11eb_ab82_acde48001122row8_col10{\n",
       "            background-color:  #7b9ff9;\n",
       "            color:  #000000;\n",
       "        }#T_595be4b4_8186_11eb_ab82_acde48001122row4_col0{\n",
       "            background-color:  #ccd9ed;\n",
       "            color:  #000000;\n",
       "        }#T_595be4b4_8186_11eb_ab82_acde48001122row4_col1,#T_595be4b4_8186_11eb_ab82_acde48001122row12_col13{\n",
       "            background-color:  #4e68d8;\n",
       "            color:  #000000;\n",
       "        }#T_595be4b4_8186_11eb_ab82_acde48001122row4_col2,#T_595be4b4_8186_11eb_ab82_acde48001122row6_col11{\n",
       "            background-color:  #85a8fc;\n",
       "            color:  #000000;\n",
       "        }#T_595be4b4_8186_11eb_ab82_acde48001122row4_col5,#T_595be4b4_8186_11eb_ab82_acde48001122row13_col9{\n",
       "            background-color:  #5673e0;\n",
       "            color:  #000000;\n",
       "        }#T_595be4b4_8186_11eb_ab82_acde48001122row4_col7,#T_595be4b4_8186_11eb_ab82_acde48001122row5_col7{\n",
       "            background-color:  #97b8ff;\n",
       "            color:  #000000;\n",
       "        }#T_595be4b4_8186_11eb_ab82_acde48001122row4_col9,#T_595be4b4_8186_11eb_ab82_acde48001122row6_col13{\n",
       "            background-color:  #c0d4f5;\n",
       "            color:  #000000;\n",
       "        }#T_595be4b4_8186_11eb_ab82_acde48001122row4_col11,#T_595be4b4_8186_11eb_ab82_acde48001122row12_col0{\n",
       "            background-color:  #aac7fd;\n",
       "            color:  #000000;\n",
       "        }#T_595be4b4_8186_11eb_ab82_acde48001122row4_col12,#T_595be4b4_8186_11eb_ab82_acde48001122row5_col10,#T_595be4b4_8186_11eb_ab82_acde48001122row6_col9,#T_595be4b4_8186_11eb_ab82_acde48001122row8_col1{\n",
       "            background-color:  #a9c6fd;\n",
       "            color:  #000000;\n",
       "        }#T_595be4b4_8186_11eb_ab82_acde48001122row4_col13{\n",
       "            background-color:  #8badfd;\n",
       "            color:  #000000;\n",
       "        }#T_595be4b4_8186_11eb_ab82_acde48001122row5_col1,#T_595be4b4_8186_11eb_ab82_acde48001122row6_col8{\n",
       "            background-color:  #8fb1fe;\n",
       "            color:  #000000;\n",
       "        }#T_595be4b4_8186_11eb_ab82_acde48001122row5_col3,#T_595be4b4_8186_11eb_ab82_acde48001122row5_col13{\n",
       "            background-color:  #98b9ff;\n",
       "            color:  #000000;\n",
       "        }#T_595be4b4_8186_11eb_ab82_acde48001122row5_col4,#T_595be4b4_8186_11eb_ab82_acde48001122row10_col12{\n",
       "            background-color:  #7396f5;\n",
       "            color:  #000000;\n",
       "        }#T_595be4b4_8186_11eb_ab82_acde48001122row5_col6{\n",
       "            background-color:  #4b64d5;\n",
       "            color:  #f1f1f1;\n",
       "        }#T_595be4b4_8186_11eb_ab82_acde48001122row5_col8{\n",
       "            background-color:  #a6c4fe;\n",
       "            color:  #000000;\n",
       "        }#T_595be4b4_8186_11eb_ab82_acde48001122row5_col11{\n",
       "            background-color:  #bad0f8;\n",
       "            color:  #000000;\n",
       "        }#T_595be4b4_8186_11eb_ab82_acde48001122row6_col2,#T_595be4b4_8186_11eb_ab82_acde48001122row11_col10{\n",
       "            background-color:  #a3c2fe;\n",
       "            color:  #000000;\n",
       "        }#T_595be4b4_8186_11eb_ab82_acde48001122row6_col3{\n",
       "            background-color:  #4257c9;\n",
       "            color:  #f1f1f1;\n",
       "        }#T_595be4b4_8186_11eb_ab82_acde48001122row6_col4,#T_595be4b4_8186_11eb_ab82_acde48001122row7_col8{\n",
       "            background-color:  #465ecf;\n",
       "            color:  #f1f1f1;\n",
       "        }#T_595be4b4_8186_11eb_ab82_acde48001122row6_col10{\n",
       "            background-color:  #c7d7f0;\n",
       "            color:  #000000;\n",
       "        }#T_595be4b4_8186_11eb_ab82_acde48001122row7_col1,#T_595be4b4_8186_11eb_ab82_acde48001122row7_col12,#T_595be4b4_8186_11eb_ab82_acde48001122row8_col3{\n",
       "            background-color:  #7699f6;\n",
       "            color:  #000000;\n",
       "        }#T_595be4b4_8186_11eb_ab82_acde48001122row7_col2{\n",
       "            background-color:  #dbdcde;\n",
       "            color:  #000000;\n",
       "        }#T_595be4b4_8186_11eb_ab82_acde48001122row7_col3,#T_595be4b4_8186_11eb_ab82_acde48001122row9_col5{\n",
       "            background-color:  #5470de;\n",
       "            color:  #000000;\n",
       "        }#T_595be4b4_8186_11eb_ab82_acde48001122row7_col4{\n",
       "            background-color:  #6c8ff1;\n",
       "            color:  #000000;\n",
       "        }#T_595be4b4_8186_11eb_ab82_acde48001122row7_col5,#T_595be4b4_8186_11eb_ab82_acde48001122row8_col6,#T_595be4b4_8186_11eb_ab82_acde48001122row11_col6{\n",
       "            background-color:  #4f69d9;\n",
       "            color:  #000000;\n",
       "        }#T_595be4b4_8186_11eb_ab82_acde48001122row7_col10{\n",
       "            background-color:  #f3c8b2;\n",
       "            color:  #000000;\n",
       "        }#T_595be4b4_8186_11eb_ab82_acde48001122row7_col11{\n",
       "            background-color:  #6282ea;\n",
       "            color:  #000000;\n",
       "        }#T_595be4b4_8186_11eb_ab82_acde48001122row7_col13,#T_595be4b4_8186_11eb_ab82_acde48001122row13_col2{\n",
       "            background-color:  #f1ccb8;\n",
       "            color:  #000000;\n",
       "        }#T_595be4b4_8186_11eb_ab82_acde48001122row8_col4{\n",
       "            background-color:  #82a6fb;\n",
       "            color:  #000000;\n",
       "        }#T_595be4b4_8186_11eb_ab82_acde48001122row8_col7{\n",
       "            background-color:  #3e51c5;\n",
       "            color:  #f1f1f1;\n",
       "        }#T_595be4b4_8186_11eb_ab82_acde48001122row8_col9{\n",
       "            background-color:  #e9d5cb;\n",
       "            color:  #000000;\n",
       "        }#T_595be4b4_8186_11eb_ab82_acde48001122row8_col12{\n",
       "            background-color:  #c3d5f4;\n",
       "            color:  #000000;\n",
       "        }#T_595be4b4_8186_11eb_ab82_acde48001122row9_col0{\n",
       "            background-color:  #cbd8ee;\n",
       "            color:  #000000;\n",
       "        }#T_595be4b4_8186_11eb_ab82_acde48001122row9_col1,#T_595be4b4_8186_11eb_ab82_acde48001122row9_col3{\n",
       "            background-color:  #9dbdff;\n",
       "            color:  #000000;\n",
       "        }#T_595be4b4_8186_11eb_ab82_acde48001122row9_col4{\n",
       "            background-color:  #7ea1fa;\n",
       "            color:  #000000;\n",
       "        }#T_595be4b4_8186_11eb_ab82_acde48001122row9_col7{\n",
       "            background-color:  #455cce;\n",
       "            color:  #f1f1f1;\n",
       "        }#T_595be4b4_8186_11eb_ab82_acde48001122row9_col8,#T_595be4b4_8186_11eb_ab82_acde48001122row11_col9{\n",
       "            background-color:  #dedcdb;\n",
       "            color:  #000000;\n",
       "        }#T_595be4b4_8186_11eb_ab82_acde48001122row9_col13{\n",
       "            background-color:  #3c4ec2;\n",
       "            color:  #f1f1f1;\n",
       "        }#T_595be4b4_8186_11eb_ab82_acde48001122row10_col1{\n",
       "            background-color:  #7a9df8;\n",
       "            color:  #000000;\n",
       "        }#T_595be4b4_8186_11eb_ab82_acde48001122row10_col3,#T_595be4b4_8186_11eb_ab82_acde48001122row10_col5{\n",
       "            background-color:  #4055c8;\n",
       "            color:  #f1f1f1;\n",
       "        }#T_595be4b4_8186_11eb_ab82_acde48001122row10_col4{\n",
       "            background-color:  #6e90f2;\n",
       "            color:  #000000;\n",
       "        }#T_595be4b4_8186_11eb_ab82_acde48001122row10_col7{\n",
       "            background-color:  #ebd3c6;\n",
       "            color:  #000000;\n",
       "        }#T_595be4b4_8186_11eb_ab82_acde48001122row10_col8,#T_595be4b4_8186_11eb_ab82_acde48001122row13_col0{\n",
       "            background-color:  #6180e9;\n",
       "            color:  #000000;\n",
       "        }#T_595be4b4_8186_11eb_ab82_acde48001122row10_col11,#T_595be4b4_8186_11eb_ab82_acde48001122row11_col4{\n",
       "            background-color:  #84a7fc;\n",
       "            color:  #000000;\n",
       "        }#T_595be4b4_8186_11eb_ab82_acde48001122row10_col13{\n",
       "            background-color:  #e8d6cc;\n",
       "            color:  #000000;\n",
       "        }#T_595be4b4_8186_11eb_ab82_acde48001122row11_col0{\n",
       "            background-color:  #d8dce2;\n",
       "            color:  #000000;\n",
       "        }#T_595be4b4_8186_11eb_ab82_acde48001122row11_col1{\n",
       "            background-color:  #a2c1ff;\n",
       "            color:  #000000;\n",
       "        }#T_595be4b4_8186_11eb_ab82_acde48001122row11_col2{\n",
       "            background-color:  #6b8df0;\n",
       "            color:  #000000;\n",
       "        }#T_595be4b4_8186_11eb_ab82_acde48001122row11_col3,#T_595be4b4_8186_11eb_ab82_acde48001122row12_col7{\n",
       "            background-color:  #81a4fb;\n",
       "            color:  #000000;\n",
       "        }#T_595be4b4_8186_11eb_ab82_acde48001122row11_col5{\n",
       "            background-color:  #7da0f9;\n",
       "            color:  #000000;\n",
       "        }#T_595be4b4_8186_11eb_ab82_acde48001122row11_col7{\n",
       "            background-color:  #6384eb;\n",
       "            color:  #000000;\n",
       "        }#T_595be4b4_8186_11eb_ab82_acde48001122row11_col8,#T_595be4b4_8186_11eb_ab82_acde48001122row12_col1{\n",
       "            background-color:  #bbd1f8;\n",
       "            color:  #000000;\n",
       "        }#T_595be4b4_8186_11eb_ab82_acde48001122row12_col5{\n",
       "            background-color:  #4961d2;\n",
       "            color:  #f1f1f1;\n",
       "        }#T_595be4b4_8186_11eb_ab82_acde48001122row12_col8{\n",
       "            background-color:  #cedaeb;\n",
       "            color:  #000000;\n",
       "        }#T_595be4b4_8186_11eb_ab82_acde48001122row12_col10{\n",
       "            background-color:  #9ebeff;\n",
       "            color:  #000000;\n",
       "        }#T_595be4b4_8186_11eb_ab82_acde48001122row12_col11{\n",
       "            background-color:  #bcd2f7;\n",
       "            color:  #000000;\n",
       "        }#T_595be4b4_8186_11eb_ab82_acde48001122row13_col4{\n",
       "            background-color:  #5875e1;\n",
       "            color:  #000000;\n",
       "        }#T_595be4b4_8186_11eb_ab82_acde48001122row13_col5{\n",
       "            background-color:  #4a63d3;\n",
       "            color:  #f1f1f1;\n",
       "        }#T_595be4b4_8186_11eb_ab82_acde48001122row13_col7{\n",
       "            background-color:  #f0cdbb;\n",
       "            color:  #000000;\n",
       "        }#T_595be4b4_8186_11eb_ab82_acde48001122row13_col10{\n",
       "            background-color:  #efcebd;\n",
       "            color:  #000000;\n",
       "        }</style><table id=\"T_595be4b4_8186_11eb_ab82_acde48001122\" ><thead>    <tr>        <th class=\"blank level0\" ></th>        <th class=\"col_heading level0 col0\" >age</th>        <th class=\"col_heading level0 col1\" >sex</th>        <th class=\"col_heading level0 col2\" >cp</th>        <th class=\"col_heading level0 col3\" >trestbps</th>        <th class=\"col_heading level0 col4\" >chol</th>        <th class=\"col_heading level0 col5\" >fbs</th>        <th class=\"col_heading level0 col6\" >restecg</th>        <th class=\"col_heading level0 col7\" >thalach</th>        <th class=\"col_heading level0 col8\" >exang</th>        <th class=\"col_heading level0 col9\" >oldpeak</th>        <th class=\"col_heading level0 col10\" >slope</th>        <th class=\"col_heading level0 col11\" >ca</th>        <th class=\"col_heading level0 col12\" >thal</th>        <th class=\"col_heading level0 col13\" >target</th>    </tr></thead><tbody>\n",
       "                <tr>\n",
       "                        <th id=\"T_595be4b4_8186_11eb_ab82_acde48001122level0_row0\" class=\"row_heading level0 row0\" >age</th>\n",
       "                        <td id=\"T_595be4b4_8186_11eb_ab82_acde48001122row0_col0\" class=\"data row0 col0\" >1.000000</td>\n",
       "                        <td id=\"T_595be4b4_8186_11eb_ab82_acde48001122row0_col1\" class=\"data row0 col1\" >-0.098447</td>\n",
       "                        <td id=\"T_595be4b4_8186_11eb_ab82_acde48001122row0_col2\" class=\"data row0 col2\" >-0.068653</td>\n",
       "                        <td id=\"T_595be4b4_8186_11eb_ab82_acde48001122row0_col3\" class=\"data row0 col3\" >0.279351</td>\n",
       "                        <td id=\"T_595be4b4_8186_11eb_ab82_acde48001122row0_col4\" class=\"data row0 col4\" >0.213678</td>\n",
       "                        <td id=\"T_595be4b4_8186_11eb_ab82_acde48001122row0_col5\" class=\"data row0 col5\" >0.121308</td>\n",
       "                        <td id=\"T_595be4b4_8186_11eb_ab82_acde48001122row0_col6\" class=\"data row0 col6\" >-0.116211</td>\n",
       "                        <td id=\"T_595be4b4_8186_11eb_ab82_acde48001122row0_col7\" class=\"data row0 col7\" >-0.398522</td>\n",
       "                        <td id=\"T_595be4b4_8186_11eb_ab82_acde48001122row0_col8\" class=\"data row0 col8\" >0.096801</td>\n",
       "                        <td id=\"T_595be4b4_8186_11eb_ab82_acde48001122row0_col9\" class=\"data row0 col9\" >0.210013</td>\n",
       "                        <td id=\"T_595be4b4_8186_11eb_ab82_acde48001122row0_col10\" class=\"data row0 col10\" >-0.168814</td>\n",
       "                        <td id=\"T_595be4b4_8186_11eb_ab82_acde48001122row0_col11\" class=\"data row0 col11\" >0.276326</td>\n",
       "                        <td id=\"T_595be4b4_8186_11eb_ab82_acde48001122row0_col12\" class=\"data row0 col12\" >0.068001</td>\n",
       "                        <td id=\"T_595be4b4_8186_11eb_ab82_acde48001122row0_col13\" class=\"data row0 col13\" >-0.225439</td>\n",
       "            </tr>\n",
       "            <tr>\n",
       "                        <th id=\"T_595be4b4_8186_11eb_ab82_acde48001122level0_row1\" class=\"row_heading level0 row1\" >sex</th>\n",
       "                        <td id=\"T_595be4b4_8186_11eb_ab82_acde48001122row1_col0\" class=\"data row1 col0\" >-0.098447</td>\n",
       "                        <td id=\"T_595be4b4_8186_11eb_ab82_acde48001122row1_col1\" class=\"data row1 col1\" >1.000000</td>\n",
       "                        <td id=\"T_595be4b4_8186_11eb_ab82_acde48001122row1_col2\" class=\"data row1 col2\" >-0.049353</td>\n",
       "                        <td id=\"T_595be4b4_8186_11eb_ab82_acde48001122row1_col3\" class=\"data row1 col3\" >-0.056769</td>\n",
       "                        <td id=\"T_595be4b4_8186_11eb_ab82_acde48001122row1_col4\" class=\"data row1 col4\" >-0.197912</td>\n",
       "                        <td id=\"T_595be4b4_8186_11eb_ab82_acde48001122row1_col5\" class=\"data row1 col5\" >0.045032</td>\n",
       "                        <td id=\"T_595be4b4_8186_11eb_ab82_acde48001122row1_col6\" class=\"data row1 col6\" >-0.058196</td>\n",
       "                        <td id=\"T_595be4b4_8186_11eb_ab82_acde48001122row1_col7\" class=\"data row1 col7\" >-0.044020</td>\n",
       "                        <td id=\"T_595be4b4_8186_11eb_ab82_acde48001122row1_col8\" class=\"data row1 col8\" >0.141664</td>\n",
       "                        <td id=\"T_595be4b4_8186_11eb_ab82_acde48001122row1_col9\" class=\"data row1 col9\" >0.096093</td>\n",
       "                        <td id=\"T_595be4b4_8186_11eb_ab82_acde48001122row1_col10\" class=\"data row1 col10\" >-0.030711</td>\n",
       "                        <td id=\"T_595be4b4_8186_11eb_ab82_acde48001122row1_col11\" class=\"data row1 col11\" >0.118261</td>\n",
       "                        <td id=\"T_595be4b4_8186_11eb_ab82_acde48001122row1_col12\" class=\"data row1 col12\" >0.210041</td>\n",
       "                        <td id=\"T_595be4b4_8186_11eb_ab82_acde48001122row1_col13\" class=\"data row1 col13\" >-0.280937</td>\n",
       "            </tr>\n",
       "            <tr>\n",
       "                        <th id=\"T_595be4b4_8186_11eb_ab82_acde48001122level0_row2\" class=\"row_heading level0 row2\" >cp</th>\n",
       "                        <td id=\"T_595be4b4_8186_11eb_ab82_acde48001122row2_col0\" class=\"data row2 col0\" >-0.068653</td>\n",
       "                        <td id=\"T_595be4b4_8186_11eb_ab82_acde48001122row2_col1\" class=\"data row2 col1\" >-0.049353</td>\n",
       "                        <td id=\"T_595be4b4_8186_11eb_ab82_acde48001122row2_col2\" class=\"data row2 col2\" >1.000000</td>\n",
       "                        <td id=\"T_595be4b4_8186_11eb_ab82_acde48001122row2_col3\" class=\"data row2 col3\" >0.047608</td>\n",
       "                        <td id=\"T_595be4b4_8186_11eb_ab82_acde48001122row2_col4\" class=\"data row2 col4\" >-0.076904</td>\n",
       "                        <td id=\"T_595be4b4_8186_11eb_ab82_acde48001122row2_col5\" class=\"data row2 col5\" >0.094444</td>\n",
       "                        <td id=\"T_595be4b4_8186_11eb_ab82_acde48001122row2_col6\" class=\"data row2 col6\" >0.044421</td>\n",
       "                        <td id=\"T_595be4b4_8186_11eb_ab82_acde48001122row2_col7\" class=\"data row2 col7\" >0.295762</td>\n",
       "                        <td id=\"T_595be4b4_8186_11eb_ab82_acde48001122row2_col8\" class=\"data row2 col8\" >-0.394280</td>\n",
       "                        <td id=\"T_595be4b4_8186_11eb_ab82_acde48001122row2_col9\" class=\"data row2 col9\" >-0.149230</td>\n",
       "                        <td id=\"T_595be4b4_8186_11eb_ab82_acde48001122row2_col10\" class=\"data row2 col10\" >0.119717</td>\n",
       "                        <td id=\"T_595be4b4_8186_11eb_ab82_acde48001122row2_col11\" class=\"data row2 col11\" >-0.181053</td>\n",
       "                        <td id=\"T_595be4b4_8186_11eb_ab82_acde48001122row2_col12\" class=\"data row2 col12\" >-0.161736</td>\n",
       "                        <td id=\"T_595be4b4_8186_11eb_ab82_acde48001122row2_col13\" class=\"data row2 col13\" >0.433798</td>\n",
       "            </tr>\n",
       "            <tr>\n",
       "                        <th id=\"T_595be4b4_8186_11eb_ab82_acde48001122level0_row3\" class=\"row_heading level0 row3\" >trestbps</th>\n",
       "                        <td id=\"T_595be4b4_8186_11eb_ab82_acde48001122row3_col0\" class=\"data row3 col0\" >0.279351</td>\n",
       "                        <td id=\"T_595be4b4_8186_11eb_ab82_acde48001122row3_col1\" class=\"data row3 col1\" >-0.056769</td>\n",
       "                        <td id=\"T_595be4b4_8186_11eb_ab82_acde48001122row3_col2\" class=\"data row3 col2\" >0.047608</td>\n",
       "                        <td id=\"T_595be4b4_8186_11eb_ab82_acde48001122row3_col3\" class=\"data row3 col3\" >1.000000</td>\n",
       "                        <td id=\"T_595be4b4_8186_11eb_ab82_acde48001122row3_col4\" class=\"data row3 col4\" >0.123174</td>\n",
       "                        <td id=\"T_595be4b4_8186_11eb_ab82_acde48001122row3_col5\" class=\"data row3 col5\" >0.177531</td>\n",
       "                        <td id=\"T_595be4b4_8186_11eb_ab82_acde48001122row3_col6\" class=\"data row3 col6\" >-0.114103</td>\n",
       "                        <td id=\"T_595be4b4_8186_11eb_ab82_acde48001122row3_col7\" class=\"data row3 col7\" >-0.046698</td>\n",
       "                        <td id=\"T_595be4b4_8186_11eb_ab82_acde48001122row3_col8\" class=\"data row3 col8\" >0.067616</td>\n",
       "                        <td id=\"T_595be4b4_8186_11eb_ab82_acde48001122row3_col9\" class=\"data row3 col9\" >0.193216</td>\n",
       "                        <td id=\"T_595be4b4_8186_11eb_ab82_acde48001122row3_col10\" class=\"data row3 col10\" >-0.121475</td>\n",
       "                        <td id=\"T_595be4b4_8186_11eb_ab82_acde48001122row3_col11\" class=\"data row3 col11\" >0.101389</td>\n",
       "                        <td id=\"T_595be4b4_8186_11eb_ab82_acde48001122row3_col12\" class=\"data row3 col12\" >0.062210</td>\n",
       "                        <td id=\"T_595be4b4_8186_11eb_ab82_acde48001122row3_col13\" class=\"data row3 col13\" >-0.144931</td>\n",
       "            </tr>\n",
       "            <tr>\n",
       "                        <th id=\"T_595be4b4_8186_11eb_ab82_acde48001122level0_row4\" class=\"row_heading level0 row4\" >chol</th>\n",
       "                        <td id=\"T_595be4b4_8186_11eb_ab82_acde48001122row4_col0\" class=\"data row4 col0\" >0.213678</td>\n",
       "                        <td id=\"T_595be4b4_8186_11eb_ab82_acde48001122row4_col1\" class=\"data row4 col1\" >-0.197912</td>\n",
       "                        <td id=\"T_595be4b4_8186_11eb_ab82_acde48001122row4_col2\" class=\"data row4 col2\" >-0.076904</td>\n",
       "                        <td id=\"T_595be4b4_8186_11eb_ab82_acde48001122row4_col3\" class=\"data row4 col3\" >0.123174</td>\n",
       "                        <td id=\"T_595be4b4_8186_11eb_ab82_acde48001122row4_col4\" class=\"data row4 col4\" >1.000000</td>\n",
       "                        <td id=\"T_595be4b4_8186_11eb_ab82_acde48001122row4_col5\" class=\"data row4 col5\" >0.013294</td>\n",
       "                        <td id=\"T_595be4b4_8186_11eb_ab82_acde48001122row4_col6\" class=\"data row4 col6\" >-0.151040</td>\n",
       "                        <td id=\"T_595be4b4_8186_11eb_ab82_acde48001122row4_col7\" class=\"data row4 col7\" >-0.009940</td>\n",
       "                        <td id=\"T_595be4b4_8186_11eb_ab82_acde48001122row4_col8\" class=\"data row4 col8\" >0.067023</td>\n",
       "                        <td id=\"T_595be4b4_8186_11eb_ab82_acde48001122row4_col9\" class=\"data row4 col9\" >0.053952</td>\n",
       "                        <td id=\"T_595be4b4_8186_11eb_ab82_acde48001122row4_col10\" class=\"data row4 col10\" >-0.004038</td>\n",
       "                        <td id=\"T_595be4b4_8186_11eb_ab82_acde48001122row4_col11\" class=\"data row4 col11\" >0.070511</td>\n",
       "                        <td id=\"T_595be4b4_8186_11eb_ab82_acde48001122row4_col12\" class=\"data row4 col12\" >0.098803</td>\n",
       "                        <td id=\"T_595be4b4_8186_11eb_ab82_acde48001122row4_col13\" class=\"data row4 col13\" >-0.085239</td>\n",
       "            </tr>\n",
       "            <tr>\n",
       "                        <th id=\"T_595be4b4_8186_11eb_ab82_acde48001122level0_row5\" class=\"row_heading level0 row5\" >fbs</th>\n",
       "                        <td id=\"T_595be4b4_8186_11eb_ab82_acde48001122row5_col0\" class=\"data row5 col0\" >0.121308</td>\n",
       "                        <td id=\"T_595be4b4_8186_11eb_ab82_acde48001122row5_col1\" class=\"data row5 col1\" >0.045032</td>\n",
       "                        <td id=\"T_595be4b4_8186_11eb_ab82_acde48001122row5_col2\" class=\"data row5 col2\" >0.094444</td>\n",
       "                        <td id=\"T_595be4b4_8186_11eb_ab82_acde48001122row5_col3\" class=\"data row5 col3\" >0.177531</td>\n",
       "                        <td id=\"T_595be4b4_8186_11eb_ab82_acde48001122row5_col4\" class=\"data row5 col4\" >0.013294</td>\n",
       "                        <td id=\"T_595be4b4_8186_11eb_ab82_acde48001122row5_col5\" class=\"data row5 col5\" >1.000000</td>\n",
       "                        <td id=\"T_595be4b4_8186_11eb_ab82_acde48001122row5_col6\" class=\"data row5 col6\" >-0.084189</td>\n",
       "                        <td id=\"T_595be4b4_8186_11eb_ab82_acde48001122row5_col7\" class=\"data row5 col7\" >-0.008567</td>\n",
       "                        <td id=\"T_595be4b4_8186_11eb_ab82_acde48001122row5_col8\" class=\"data row5 col8\" >0.025665</td>\n",
       "                        <td id=\"T_595be4b4_8186_11eb_ab82_acde48001122row5_col9\" class=\"data row5 col9\" >0.005747</td>\n",
       "                        <td id=\"T_595be4b4_8186_11eb_ab82_acde48001122row5_col10\" class=\"data row5 col10\" >-0.059894</td>\n",
       "                        <td id=\"T_595be4b4_8186_11eb_ab82_acde48001122row5_col11\" class=\"data row5 col11\" >0.137979</td>\n",
       "                        <td id=\"T_595be4b4_8186_11eb_ab82_acde48001122row5_col12\" class=\"data row5 col12\" >-0.032019</td>\n",
       "                        <td id=\"T_595be4b4_8186_11eb_ab82_acde48001122row5_col13\" class=\"data row5 col13\" >-0.028046</td>\n",
       "            </tr>\n",
       "            <tr>\n",
       "                        <th id=\"T_595be4b4_8186_11eb_ab82_acde48001122level0_row6\" class=\"row_heading level0 row6\" >restecg</th>\n",
       "                        <td id=\"T_595be4b4_8186_11eb_ab82_acde48001122row6_col0\" class=\"data row6 col0\" >-0.116211</td>\n",
       "                        <td id=\"T_595be4b4_8186_11eb_ab82_acde48001122row6_col1\" class=\"data row6 col1\" >-0.058196</td>\n",
       "                        <td id=\"T_595be4b4_8186_11eb_ab82_acde48001122row6_col2\" class=\"data row6 col2\" >0.044421</td>\n",
       "                        <td id=\"T_595be4b4_8186_11eb_ab82_acde48001122row6_col3\" class=\"data row6 col3\" >-0.114103</td>\n",
       "                        <td id=\"T_595be4b4_8186_11eb_ab82_acde48001122row6_col4\" class=\"data row6 col4\" >-0.151040</td>\n",
       "                        <td id=\"T_595be4b4_8186_11eb_ab82_acde48001122row6_col5\" class=\"data row6 col5\" >-0.084189</td>\n",
       "                        <td id=\"T_595be4b4_8186_11eb_ab82_acde48001122row6_col6\" class=\"data row6 col6\" >1.000000</td>\n",
       "                        <td id=\"T_595be4b4_8186_11eb_ab82_acde48001122row6_col7\" class=\"data row6 col7\" >0.044123</td>\n",
       "                        <td id=\"T_595be4b4_8186_11eb_ab82_acde48001122row6_col8\" class=\"data row6 col8\" >-0.070733</td>\n",
       "                        <td id=\"T_595be4b4_8186_11eb_ab82_acde48001122row6_col9\" class=\"data row6 col9\" >-0.058770</td>\n",
       "                        <td id=\"T_595be4b4_8186_11eb_ab82_acde48001122row6_col10\" class=\"data row6 col10\" >0.093045</td>\n",
       "                        <td id=\"T_595be4b4_8186_11eb_ab82_acde48001122row6_col11\" class=\"data row6 col11\" >-0.072042</td>\n",
       "                        <td id=\"T_595be4b4_8186_11eb_ab82_acde48001122row6_col12\" class=\"data row6 col12\" >-0.011981</td>\n",
       "                        <td id=\"T_595be4b4_8186_11eb_ab82_acde48001122row6_col13\" class=\"data row6 col13\" >0.137230</td>\n",
       "            </tr>\n",
       "            <tr>\n",
       "                        <th id=\"T_595be4b4_8186_11eb_ab82_acde48001122level0_row7\" class=\"row_heading level0 row7\" >thalach</th>\n",
       "                        <td id=\"T_595be4b4_8186_11eb_ab82_acde48001122row7_col0\" class=\"data row7 col0\" >-0.398522</td>\n",
       "                        <td id=\"T_595be4b4_8186_11eb_ab82_acde48001122row7_col1\" class=\"data row7 col1\" >-0.044020</td>\n",
       "                        <td id=\"T_595be4b4_8186_11eb_ab82_acde48001122row7_col2\" class=\"data row7 col2\" >0.295762</td>\n",
       "                        <td id=\"T_595be4b4_8186_11eb_ab82_acde48001122row7_col3\" class=\"data row7 col3\" >-0.046698</td>\n",
       "                        <td id=\"T_595be4b4_8186_11eb_ab82_acde48001122row7_col4\" class=\"data row7 col4\" >-0.009940</td>\n",
       "                        <td id=\"T_595be4b4_8186_11eb_ab82_acde48001122row7_col5\" class=\"data row7 col5\" >-0.008567</td>\n",
       "                        <td id=\"T_595be4b4_8186_11eb_ab82_acde48001122row7_col6\" class=\"data row7 col6\" >0.044123</td>\n",
       "                        <td id=\"T_595be4b4_8186_11eb_ab82_acde48001122row7_col7\" class=\"data row7 col7\" >1.000000</td>\n",
       "                        <td id=\"T_595be4b4_8186_11eb_ab82_acde48001122row7_col8\" class=\"data row7 col8\" >-0.378812</td>\n",
       "                        <td id=\"T_595be4b4_8186_11eb_ab82_acde48001122row7_col9\" class=\"data row7 col9\" >-0.344187</td>\n",
       "                        <td id=\"T_595be4b4_8186_11eb_ab82_acde48001122row7_col10\" class=\"data row7 col10\" >0.386784</td>\n",
       "                        <td id=\"T_595be4b4_8186_11eb_ab82_acde48001122row7_col11\" class=\"data row7 col11\" >-0.213177</td>\n",
       "                        <td id=\"T_595be4b4_8186_11eb_ab82_acde48001122row7_col12\" class=\"data row7 col12\" >-0.096439</td>\n",
       "                        <td id=\"T_595be4b4_8186_11eb_ab82_acde48001122row7_col13\" class=\"data row7 col13\" >0.421741</td>\n",
       "            </tr>\n",
       "            <tr>\n",
       "                        <th id=\"T_595be4b4_8186_11eb_ab82_acde48001122level0_row8\" class=\"row_heading level0 row8\" >exang</th>\n",
       "                        <td id=\"T_595be4b4_8186_11eb_ab82_acde48001122row8_col0\" class=\"data row8 col0\" >0.096801</td>\n",
       "                        <td id=\"T_595be4b4_8186_11eb_ab82_acde48001122row8_col1\" class=\"data row8 col1\" >0.141664</td>\n",
       "                        <td id=\"T_595be4b4_8186_11eb_ab82_acde48001122row8_col2\" class=\"data row8 col2\" >-0.394280</td>\n",
       "                        <td id=\"T_595be4b4_8186_11eb_ab82_acde48001122row8_col3\" class=\"data row8 col3\" >0.067616</td>\n",
       "                        <td id=\"T_595be4b4_8186_11eb_ab82_acde48001122row8_col4\" class=\"data row8 col4\" >0.067023</td>\n",
       "                        <td id=\"T_595be4b4_8186_11eb_ab82_acde48001122row8_col5\" class=\"data row8 col5\" >0.025665</td>\n",
       "                        <td id=\"T_595be4b4_8186_11eb_ab82_acde48001122row8_col6\" class=\"data row8 col6\" >-0.070733</td>\n",
       "                        <td id=\"T_595be4b4_8186_11eb_ab82_acde48001122row8_col7\" class=\"data row8 col7\" >-0.378812</td>\n",
       "                        <td id=\"T_595be4b4_8186_11eb_ab82_acde48001122row8_col8\" class=\"data row8 col8\" >1.000000</td>\n",
       "                        <td id=\"T_595be4b4_8186_11eb_ab82_acde48001122row8_col9\" class=\"data row8 col9\" >0.288223</td>\n",
       "                        <td id=\"T_595be4b4_8186_11eb_ab82_acde48001122row8_col10\" class=\"data row8 col10\" >-0.257748</td>\n",
       "                        <td id=\"T_595be4b4_8186_11eb_ab82_acde48001122row8_col11\" class=\"data row8 col11\" >0.115739</td>\n",
       "                        <td id=\"T_595be4b4_8186_11eb_ab82_acde48001122row8_col12\" class=\"data row8 col12\" >0.206754</td>\n",
       "                        <td id=\"T_595be4b4_8186_11eb_ab82_acde48001122row8_col13\" class=\"data row8 col13\" >-0.436757</td>\n",
       "            </tr>\n",
       "            <tr>\n",
       "                        <th id=\"T_595be4b4_8186_11eb_ab82_acde48001122level0_row9\" class=\"row_heading level0 row9\" >oldpeak</th>\n",
       "                        <td id=\"T_595be4b4_8186_11eb_ab82_acde48001122row9_col0\" class=\"data row9 col0\" >0.210013</td>\n",
       "                        <td id=\"T_595be4b4_8186_11eb_ab82_acde48001122row9_col1\" class=\"data row9 col1\" >0.096093</td>\n",
       "                        <td id=\"T_595be4b4_8186_11eb_ab82_acde48001122row9_col2\" class=\"data row9 col2\" >-0.149230</td>\n",
       "                        <td id=\"T_595be4b4_8186_11eb_ab82_acde48001122row9_col3\" class=\"data row9 col3\" >0.193216</td>\n",
       "                        <td id=\"T_595be4b4_8186_11eb_ab82_acde48001122row9_col4\" class=\"data row9 col4\" >0.053952</td>\n",
       "                        <td id=\"T_595be4b4_8186_11eb_ab82_acde48001122row9_col5\" class=\"data row9 col5\" >0.005747</td>\n",
       "                        <td id=\"T_595be4b4_8186_11eb_ab82_acde48001122row9_col6\" class=\"data row9 col6\" >-0.058770</td>\n",
       "                        <td id=\"T_595be4b4_8186_11eb_ab82_acde48001122row9_col7\" class=\"data row9 col7\" >-0.344187</td>\n",
       "                        <td id=\"T_595be4b4_8186_11eb_ab82_acde48001122row9_col8\" class=\"data row9 col8\" >0.288223</td>\n",
       "                        <td id=\"T_595be4b4_8186_11eb_ab82_acde48001122row9_col9\" class=\"data row9 col9\" >1.000000</td>\n",
       "                        <td id=\"T_595be4b4_8186_11eb_ab82_acde48001122row9_col10\" class=\"data row9 col10\" >-0.577537</td>\n",
       "                        <td id=\"T_595be4b4_8186_11eb_ab82_acde48001122row9_col11\" class=\"data row9 col11\" >0.222682</td>\n",
       "                        <td id=\"T_595be4b4_8186_11eb_ab82_acde48001122row9_col12\" class=\"data row9 col12\" >0.210244</td>\n",
       "                        <td id=\"T_595be4b4_8186_11eb_ab82_acde48001122row9_col13\" class=\"data row9 col13\" >-0.430696</td>\n",
       "            </tr>\n",
       "            <tr>\n",
       "                        <th id=\"T_595be4b4_8186_11eb_ab82_acde48001122level0_row10\" class=\"row_heading level0 row10\" >slope</th>\n",
       "                        <td id=\"T_595be4b4_8186_11eb_ab82_acde48001122row10_col0\" class=\"data row10 col0\" >-0.168814</td>\n",
       "                        <td id=\"T_595be4b4_8186_11eb_ab82_acde48001122row10_col1\" class=\"data row10 col1\" >-0.030711</td>\n",
       "                        <td id=\"T_595be4b4_8186_11eb_ab82_acde48001122row10_col2\" class=\"data row10 col2\" >0.119717</td>\n",
       "                        <td id=\"T_595be4b4_8186_11eb_ab82_acde48001122row10_col3\" class=\"data row10 col3\" >-0.121475</td>\n",
       "                        <td id=\"T_595be4b4_8186_11eb_ab82_acde48001122row10_col4\" class=\"data row10 col4\" >-0.004038</td>\n",
       "                        <td id=\"T_595be4b4_8186_11eb_ab82_acde48001122row10_col5\" class=\"data row10 col5\" >-0.059894</td>\n",
       "                        <td id=\"T_595be4b4_8186_11eb_ab82_acde48001122row10_col6\" class=\"data row10 col6\" >0.093045</td>\n",
       "                        <td id=\"T_595be4b4_8186_11eb_ab82_acde48001122row10_col7\" class=\"data row10 col7\" >0.386784</td>\n",
       "                        <td id=\"T_595be4b4_8186_11eb_ab82_acde48001122row10_col8\" class=\"data row10 col8\" >-0.257748</td>\n",
       "                        <td id=\"T_595be4b4_8186_11eb_ab82_acde48001122row10_col9\" class=\"data row10 col9\" >-0.577537</td>\n",
       "                        <td id=\"T_595be4b4_8186_11eb_ab82_acde48001122row10_col10\" class=\"data row10 col10\" >1.000000</td>\n",
       "                        <td id=\"T_595be4b4_8186_11eb_ab82_acde48001122row10_col11\" class=\"data row10 col11\" >-0.080155</td>\n",
       "                        <td id=\"T_595be4b4_8186_11eb_ab82_acde48001122row10_col12\" class=\"data row10 col12\" >-0.104764</td>\n",
       "                        <td id=\"T_595be4b4_8186_11eb_ab82_acde48001122row10_col13\" class=\"data row10 col13\" >0.345877</td>\n",
       "            </tr>\n",
       "            <tr>\n",
       "                        <th id=\"T_595be4b4_8186_11eb_ab82_acde48001122level0_row11\" class=\"row_heading level0 row11\" >ca</th>\n",
       "                        <td id=\"T_595be4b4_8186_11eb_ab82_acde48001122row11_col0\" class=\"data row11 col0\" >0.276326</td>\n",
       "                        <td id=\"T_595be4b4_8186_11eb_ab82_acde48001122row11_col1\" class=\"data row11 col1\" >0.118261</td>\n",
       "                        <td id=\"T_595be4b4_8186_11eb_ab82_acde48001122row11_col2\" class=\"data row11 col2\" >-0.181053</td>\n",
       "                        <td id=\"T_595be4b4_8186_11eb_ab82_acde48001122row11_col3\" class=\"data row11 col3\" >0.101389</td>\n",
       "                        <td id=\"T_595be4b4_8186_11eb_ab82_acde48001122row11_col4\" class=\"data row11 col4\" >0.070511</td>\n",
       "                        <td id=\"T_595be4b4_8186_11eb_ab82_acde48001122row11_col5\" class=\"data row11 col5\" >0.137979</td>\n",
       "                        <td id=\"T_595be4b4_8186_11eb_ab82_acde48001122row11_col6\" class=\"data row11 col6\" >-0.072042</td>\n",
       "                        <td id=\"T_595be4b4_8186_11eb_ab82_acde48001122row11_col7\" class=\"data row11 col7\" >-0.213177</td>\n",
       "                        <td id=\"T_595be4b4_8186_11eb_ab82_acde48001122row11_col8\" class=\"data row11 col8\" >0.115739</td>\n",
       "                        <td id=\"T_595be4b4_8186_11eb_ab82_acde48001122row11_col9\" class=\"data row11 col9\" >0.222682</td>\n",
       "                        <td id=\"T_595be4b4_8186_11eb_ab82_acde48001122row11_col10\" class=\"data row11 col10\" >-0.080155</td>\n",
       "                        <td id=\"T_595be4b4_8186_11eb_ab82_acde48001122row11_col11\" class=\"data row11 col11\" >1.000000</td>\n",
       "                        <td id=\"T_595be4b4_8186_11eb_ab82_acde48001122row11_col12\" class=\"data row11 col12\" >0.151832</td>\n",
       "                        <td id=\"T_595be4b4_8186_11eb_ab82_acde48001122row11_col13\" class=\"data row11 col13\" >-0.391724</td>\n",
       "            </tr>\n",
       "            <tr>\n",
       "                        <th id=\"T_595be4b4_8186_11eb_ab82_acde48001122level0_row12\" class=\"row_heading level0 row12\" >thal</th>\n",
       "                        <td id=\"T_595be4b4_8186_11eb_ab82_acde48001122row12_col0\" class=\"data row12 col0\" >0.068001</td>\n",
       "                        <td id=\"T_595be4b4_8186_11eb_ab82_acde48001122row12_col1\" class=\"data row12 col1\" >0.210041</td>\n",
       "                        <td id=\"T_595be4b4_8186_11eb_ab82_acde48001122row12_col2\" class=\"data row12 col2\" >-0.161736</td>\n",
       "                        <td id=\"T_595be4b4_8186_11eb_ab82_acde48001122row12_col3\" class=\"data row12 col3\" >0.062210</td>\n",
       "                        <td id=\"T_595be4b4_8186_11eb_ab82_acde48001122row12_col4\" class=\"data row12 col4\" >0.098803</td>\n",
       "                        <td id=\"T_595be4b4_8186_11eb_ab82_acde48001122row12_col5\" class=\"data row12 col5\" >-0.032019</td>\n",
       "                        <td id=\"T_595be4b4_8186_11eb_ab82_acde48001122row12_col6\" class=\"data row12 col6\" >-0.011981</td>\n",
       "                        <td id=\"T_595be4b4_8186_11eb_ab82_acde48001122row12_col7\" class=\"data row12 col7\" >-0.096439</td>\n",
       "                        <td id=\"T_595be4b4_8186_11eb_ab82_acde48001122row12_col8\" class=\"data row12 col8\" >0.206754</td>\n",
       "                        <td id=\"T_595be4b4_8186_11eb_ab82_acde48001122row12_col9\" class=\"data row12 col9\" >0.210244</td>\n",
       "                        <td id=\"T_595be4b4_8186_11eb_ab82_acde48001122row12_col10\" class=\"data row12 col10\" >-0.104764</td>\n",
       "                        <td id=\"T_595be4b4_8186_11eb_ab82_acde48001122row12_col11\" class=\"data row12 col11\" >0.151832</td>\n",
       "                        <td id=\"T_595be4b4_8186_11eb_ab82_acde48001122row12_col12\" class=\"data row12 col12\" >1.000000</td>\n",
       "                        <td id=\"T_595be4b4_8186_11eb_ab82_acde48001122row12_col13\" class=\"data row12 col13\" >-0.344029</td>\n",
       "            </tr>\n",
       "            <tr>\n",
       "                        <th id=\"T_595be4b4_8186_11eb_ab82_acde48001122level0_row13\" class=\"row_heading level0 row13\" >target</th>\n",
       "                        <td id=\"T_595be4b4_8186_11eb_ab82_acde48001122row13_col0\" class=\"data row13 col0\" >-0.225439</td>\n",
       "                        <td id=\"T_595be4b4_8186_11eb_ab82_acde48001122row13_col1\" class=\"data row13 col1\" >-0.280937</td>\n",
       "                        <td id=\"T_595be4b4_8186_11eb_ab82_acde48001122row13_col2\" class=\"data row13 col2\" >0.433798</td>\n",
       "                        <td id=\"T_595be4b4_8186_11eb_ab82_acde48001122row13_col3\" class=\"data row13 col3\" >-0.144931</td>\n",
       "                        <td id=\"T_595be4b4_8186_11eb_ab82_acde48001122row13_col4\" class=\"data row13 col4\" >-0.085239</td>\n",
       "                        <td id=\"T_595be4b4_8186_11eb_ab82_acde48001122row13_col5\" class=\"data row13 col5\" >-0.028046</td>\n",
       "                        <td id=\"T_595be4b4_8186_11eb_ab82_acde48001122row13_col6\" class=\"data row13 col6\" >0.137230</td>\n",
       "                        <td id=\"T_595be4b4_8186_11eb_ab82_acde48001122row13_col7\" class=\"data row13 col7\" >0.421741</td>\n",
       "                        <td id=\"T_595be4b4_8186_11eb_ab82_acde48001122row13_col8\" class=\"data row13 col8\" >-0.436757</td>\n",
       "                        <td id=\"T_595be4b4_8186_11eb_ab82_acde48001122row13_col9\" class=\"data row13 col9\" >-0.430696</td>\n",
       "                        <td id=\"T_595be4b4_8186_11eb_ab82_acde48001122row13_col10\" class=\"data row13 col10\" >0.345877</td>\n",
       "                        <td id=\"T_595be4b4_8186_11eb_ab82_acde48001122row13_col11\" class=\"data row13 col11\" >-0.391724</td>\n",
       "                        <td id=\"T_595be4b4_8186_11eb_ab82_acde48001122row13_col12\" class=\"data row13 col12\" >-0.344029</td>\n",
       "                        <td id=\"T_595be4b4_8186_11eb_ab82_acde48001122row13_col13\" class=\"data row13 col13\" >1.000000</td>\n",
       "            </tr>\n",
       "    </tbody></table>"
      ],
      "text/plain": [
       "<pandas.io.formats.style.Styler at 0x7fe5cdbf5fd0>"
      ]
     },
     "execution_count": 29,
     "metadata": {},
     "output_type": "execute_result"
    }
   ],
   "source": [
    "# 查看特征之间的相关系数具体数值\n",
    "data.corr().style.background_gradient(cmap='coolwarm')"
   ]
  },
  {
   "cell_type": "markdown",
   "metadata": {},
   "source": [
    "## 数据处理\n",
    "### 问题1：Onehot编码\n",
    "&emsp;&emsp;请对data数据中需要进行Onehot的特征列，进行Onehot编码处理。<br>"
   ]
  },
  {
   "cell_type": "code",
   "execution_count": 30,
   "metadata": {
    "pycharm": {
     "name": "#%%\n"
    }
   },
   "outputs": [],
   "source": [
    "# Onehot编码\n",
    "data = pd.get_dummies(data, columns=['cp','restecg','slope','thal'])"
   ]
  },
  {
   "cell_type": "code",
   "execution_count": 31,
   "metadata": {
    "pycharm": {
     "name": "#%%\n"
    }
   },
   "outputs": [
    {
     "name": "stdout",
     "output_type": "stream",
     "text": [
      "<class 'pandas.core.frame.DataFrame'>\n",
      "RangeIndex: 303 entries, 0 to 302\n",
      "Data columns (total 24 columns):\n",
      " #   Column     Non-Null Count  Dtype  \n",
      "---  ------     --------------  -----  \n",
      " 0   age        303 non-null    int64  \n",
      " 1   sex        303 non-null    int64  \n",
      " 2   trestbps   303 non-null    int64  \n",
      " 3   chol       303 non-null    int64  \n",
      " 4   fbs        303 non-null    int64  \n",
      " 5   thalach    303 non-null    int64  \n",
      " 6   exang      303 non-null    int64  \n",
      " 7   oldpeak    303 non-null    float64\n",
      " 8   ca         303 non-null    int64  \n",
      " 9   target     303 non-null    int64  \n",
      " 10  cp_0       303 non-null    uint8  \n",
      " 11  cp_1       303 non-null    uint8  \n",
      " 12  cp_2       303 non-null    uint8  \n",
      " 13  cp_3       303 non-null    uint8  \n",
      " 14  restecg_0  303 non-null    uint8  \n",
      " 15  restecg_1  303 non-null    uint8  \n",
      " 16  restecg_2  303 non-null    uint8  \n",
      " 17  slope_0    303 non-null    uint8  \n",
      " 18  slope_1    303 non-null    uint8  \n",
      " 19  slope_2    303 non-null    uint8  \n",
      " 20  thal_0     303 non-null    uint8  \n",
      " 21  thal_1     303 non-null    uint8  \n",
      " 22  thal_2     303 non-null    uint8  \n",
      " 23  thal_3     303 non-null    uint8  \n",
      "dtypes: float64(1), int64(9), uint8(14)\n",
      "memory usage: 27.9 KB\n"
     ]
    }
   ],
   "source": [
    "# 打印数据info，查看Onehot编码\n",
    "data.info()"
   ]
  },
  {
   "cell_type": "markdown",
   "metadata": {},
   "source": [
    "### 问题2：数据、标签划分\n",
    "&emsp;&emsp;请对data数据进行标签划分，划分出x_data（Data）与y_data(Laber)。<br>"
   ]
  },
  {
   "cell_type": "code",
   "execution_count": 32,
   "metadata": {
    "pycharm": {
     "name": "#%%\n"
    }
   },
   "outputs": [],
   "source": [
    "# 将data数据划分\n",
    "x_data = data.drop(['target'],axis=1)\n",
    "y_data = data.target.values"
   ]
  },
  {
   "cell_type": "markdown",
   "metadata": {},
   "source": [
    "### 问题3：归一化处理\n",
    "&emsp;&emsp;请对所有数据列进行归一化处理。<br>"
   ]
  },
  {
   "cell_type": "code",
   "execution_count": 33,
   "metadata": {
    "pycharm": {
     "name": "#%%\n"
    }
   },
   "outputs": [],
   "source": [
    "# 对x_data进行归一化处理\n",
    "standardScaler = StandardScaler()\n",
    "standardScaler.fit(x_data)\n",
    "X_train = standardScaler.transform(x_data)"
   ]
  },
  {
   "cell_type": "markdown",
   "metadata": {},
   "source": [
    "### 问题4：训练、测试集划分\n",
    "&emsp;&emsp;请对数据与标签进行训练集、测试集划分，划分比例为：测试集占30%。<br>"
   ]
  },
  {
   "cell_type": "code",
   "execution_count": 34,
   "metadata": {
    "pycharm": {
     "name": "#%%\n"
    }
   },
   "outputs": [],
   "source": [
    "X_train,X_test,y_train,y_test = train_test_split(x_data,y_data,test_size=0.3, random_state=33)"
   ]
  },
  {
   "cell_type": "markdown",
   "metadata": {},
   "source": [
    "### 问题5：模型定义、训练及评估\n",
    "&emsp;&emsp;请完成LogisticRegression模型的定义、训练及评估。<br>"
   ]
  },
  {
   "cell_type": "code",
   "execution_count": 35,
   "metadata": {
    "pycharm": {
     "name": "#%%\n"
    }
   },
   "outputs": [],
   "source": [
    "# 定义模型\n",
    "model = LogisticRegression(max_iter=1000)"
   ]
  },
  {
   "cell_type": "code",
   "execution_count": 36,
   "metadata": {
    "pycharm": {
     "name": "#%%\n"
    },
    "scrolled": true
   },
   "outputs": [
    {
     "name": "stderr",
     "output_type": "stream",
     "text": [
      "/Users/bubble/opt/miniconda3/envs/pt/lib/python3.6/site-packages/sklearn/linear_model/_logistic.py:765: ConvergenceWarning: lbfgs failed to converge (status=1):\n",
      "STOP: TOTAL NO. of ITERATIONS REACHED LIMIT.\n",
      "\n",
      "Increase the number of iterations (max_iter) or scale the data as shown in:\n",
      "    https://scikit-learn.org/stable/modules/preprocessing.html\n",
      "Please also refer to the documentation for alternative solver options:\n",
      "    https://scikit-learn.org/stable/modules/linear_model.html#logistic-regression\n",
      "  extra_warning_msg=_LOGISTIC_SOLVER_CONVERGENCE_MSG)\n"
     ]
    },
    {
     "data": {
      "text/plain": [
       "LogisticRegression(max_iter=1000)"
      ]
     },
     "execution_count": 36,
     "metadata": {},
     "output_type": "execute_result"
    }
   ],
   "source": [
    "# 模型训练\n",
    "model.fit(X_train,y_train)"
   ]
  },
  {
   "cell_type": "code",
   "execution_count": 37,
   "metadata": {
    "pycharm": {
     "name": "#%%\n"
    }
   },
   "outputs": [
    {
     "data": {
      "text/plain": [
       "0.8773584905660378"
      ]
     },
     "execution_count": 37,
     "metadata": {},
     "output_type": "execute_result"
    }
   ],
   "source": [
    "# 模型评估\n",
    "model.score(X_train,y_train)"
   ]
  },
  {
   "cell_type": "code",
   "execution_count": 38,
   "metadata": {
    "pycharm": {
     "name": "#%%\n"
    },
    "scrolled": true
   },
   "outputs": [
    {
     "data": {
      "text/plain": [
       "0.8461538461538461"
      ]
     },
     "execution_count": 38,
     "metadata": {},
     "output_type": "execute_result"
    }
   ],
   "source": [
    "# 使用测试数据对模型进行评估\n",
    "model.score(X_test,y_test)"
   ]
  },
  {
   "cell_type": "markdown",
   "metadata": {},
   "source": [
    "### 问题6：检查主要评价指标\n",
    "&emsp;&emsp;请使用主要评价指标对模型进行评价。<br>"
   ]
  },
  {
   "cell_type": "code",
   "execution_count": 39,
   "metadata": {
    "pycharm": {
     "name": "#%%\n"
    }
   },
   "outputs": [],
   "source": [
    "# 使用X_test数据进行模型预测\n",
    "y_predict = model.predict(X_test)"
   ]
  },
  {
   "cell_type": "code",
   "execution_count": 40,
   "metadata": {
    "pycharm": {
     "name": "#%%\n"
    }
   },
   "outputs": [
    {
     "name": "stdout",
     "output_type": "stream",
     "text": [
      "              precision    recall  f1-score   support\n",
      "\n",
      "           0       0.89      0.82      0.85        50\n",
      "           1       0.80      0.88      0.84        41\n",
      "\n",
      "    accuracy                           0.85        91\n",
      "   macro avg       0.85      0.85      0.85        91\n",
      "weighted avg       0.85      0.85      0.85        91\n",
      "\n"
     ]
    }
   ],
   "source": [
    "# 评价指标对模型\n",
    "print(classification_report(y_test,y_predict))"
   ]
  }
 ],
 "metadata": {
  "kernelspec": {
   "display_name": "Python 3",
   "language": "python",
   "name": "python3"
  },
  "language_info": {
   "codemirror_mode": {
    "name": "ipython",
    "version": 3
   },
   "file_extension": ".py",
   "mimetype": "text/x-python",
   "name": "python",
   "nbconvert_exporter": "python",
   "pygments_lexer": "ipython3",
   "version": "3.7.4"
  }
 },
 "nbformat": 4,
 "nbformat_minor": 5
}
